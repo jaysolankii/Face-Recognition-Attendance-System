{
 "cells": [
  {
   "cell_type": "code",
   "execution_count": 25,
   "id": "9900187a-6dc1-471b-89ef-4fadb3cf6fec",
   "metadata": {},
   "outputs": [],
   "source": [
    "import os\n",
    "import cv2\n",
    "import numpy as np\n",
    "import pandas as pd\n",
    "\n",
    "from insightface.app import FaceAnalysis"
   ]
  },
  {
   "cell_type": "code",
   "execution_count": 26,
   "id": "df75a8ed-76c8-4c93-82d6-fb51bbde5c92",
   "metadata": {},
   "outputs": [
    {
     "name": "stdout",
     "output_type": "stream",
     "text": [
      "Applied providers: ['CPUExecutionProvider'], with options: {'CPUExecutionProvider': {}}\n",
      "find model: insightface_model\\models\\buffalo_sc\\det_500m.onnx detection [1, 3, '?', '?'] 127.5 128.0\n",
      "Applied providers: ['CPUExecutionProvider'], with options: {'CPUExecutionProvider': {}}\n",
      "find model: insightface_model\\models\\buffalo_sc\\w600k_mbf.onnx recognition ['None', 3, 112, 112] 127.5 127.5\n",
      "set det-size: (640, 640)\n"
     ]
    }
   ],
   "source": [
    "#configure face analysis\n",
    "faceapp=FaceAnalysis(name='buffalo_sc',\n",
    "                     root='insightface_model',\n",
    "                     providers=['CPUExecutionProvider'])\n",
    "faceapp.prepare(ctx_id=0,det_size=(640,640),det_thresh=0.5)"
   ]
  },
  {
   "cell_type": "code",
   "execution_count": 27,
   "id": "a9b6f1df-87c9-4544-b847-5de4797557b9",
   "metadata": {},
   "outputs": [],
   "source": [
    "#Extract Facial Features"
   ]
  },
  {
   "cell_type": "code",
   "execution_count": 32,
   "id": "58a36fef-5b7e-482f-b143-842e716c3182",
   "metadata": {},
   "outputs": [],
   "source": [
    "person_info=[]\n",
    "listdir=os.listdir(path='images')\n",
    "for folder_name in listdir:\n",
    "    role,name=folder_name.split('-')\n",
    "\n",
    "    #path of each image in respective folder\n",
    "    img_files=os.listdir(path=f'images/{folder_name}')\n",
    "    for file in img_files:\n",
    "        path=f'./images/{folder_name}/{file}'\n",
    "        #step-1: read the images\n",
    "        img_arr=cv2.imread(path)\n",
    "\n",
    "        #step-2: get the info\n",
    "        result=faceapp.get(img_arr,max_num=1)#return list\n",
    "        if len(result)>0:\n",
    "            #step-3: extract facial embedding\n",
    "            res=result[0]\n",
    "            embedding=res['embedding']\n",
    "            #step-4 :save all info name,role,embedding in a list\n",
    "            person_info.append([name,role,embedding])"
   ]
  },
  {
   "cell_type": "code",
   "execution_count": 33,
   "id": "a470e1d8-78ef-49ea-8c94-620717f71c78",
   "metadata": {},
   "outputs": [
    {
     "data": {
      "text/html": [
       "<div>\n",
       "<style scoped>\n",
       "    .dataframe tbody tr th:only-of-type {\n",
       "        vertical-align: middle;\n",
       "    }\n",
       "\n",
       "    .dataframe tbody tr th {\n",
       "        vertical-align: top;\n",
       "    }\n",
       "\n",
       "    .dataframe thead th {\n",
       "        text-align: right;\n",
       "    }\n",
       "</style>\n",
       "<table border=\"1\" class=\"dataframe\">\n",
       "  <thead>\n",
       "    <tr style=\"text-align: right;\">\n",
       "      <th></th>\n",
       "      <th>Name</th>\n",
       "      <th>Role</th>\n",
       "      <th>Facial Features</th>\n",
       "    </tr>\n",
       "  </thead>\n",
       "  <tbody>\n",
       "    <tr>\n",
       "      <th>0</th>\n",
       "      <td>Aadish Jain</td>\n",
       "      <td>student</td>\n",
       "      <td>[-1.89651, -0.22361787, 2.3829994, 1.4845628, ...</td>\n",
       "    </tr>\n",
       "    <tr>\n",
       "      <th>1</th>\n",
       "      <td>Abhinav Gangil</td>\n",
       "      <td>student</td>\n",
       "      <td>[-0.6267061, 0.99143255, 1.8860981, 2.5386827,...</td>\n",
       "    </tr>\n",
       "    <tr>\n",
       "      <th>2</th>\n",
       "      <td>Aditi Wekhande</td>\n",
       "      <td>student</td>\n",
       "      <td>[0.61851066, -2.313673, 1.0664217, -0.24302286...</td>\n",
       "    </tr>\n",
       "    <tr>\n",
       "      <th>3</th>\n",
       "      <td>Aditi Wekhande</td>\n",
       "      <td>student</td>\n",
       "      <td>[1.3814317, -2.3694372, -0.35375035, 0.2203314...</td>\n",
       "    </tr>\n",
       "    <tr>\n",
       "      <th>4</th>\n",
       "      <td>Aditya Kshitiz</td>\n",
       "      <td>student</td>\n",
       "      <td>[0.5845894, 0.17067143, 0.4124964, 1.2453465, ...</td>\n",
       "    </tr>\n",
       "    <tr>\n",
       "      <th>...</th>\n",
       "      <td>...</td>\n",
       "      <td>...</td>\n",
       "      <td>...</td>\n",
       "    </tr>\n",
       "    <tr>\n",
       "      <th>115</th>\n",
       "      <td>Vijit Balsori</td>\n",
       "      <td>student</td>\n",
       "      <td>[-0.765196, 0.15019533, 0.5577423, 1.7181464, ...</td>\n",
       "    </tr>\n",
       "    <tr>\n",
       "      <th>116</th>\n",
       "      <td>Vineet Verma</td>\n",
       "      <td>student</td>\n",
       "      <td>[-0.9653477, 0.16919827, -0.56249446, -0.38980...</td>\n",
       "    </tr>\n",
       "    <tr>\n",
       "      <th>117</th>\n",
       "      <td>Votte Sriyans</td>\n",
       "      <td>student</td>\n",
       "      <td>[-2.150356, -1.7748274, 0.22421616, 0.1275861,...</td>\n",
       "    </tr>\n",
       "    <tr>\n",
       "      <th>118</th>\n",
       "      <td>Votte Sriyans</td>\n",
       "      <td>student</td>\n",
       "      <td>[-3.171238, -2.7374885, 0.13183016, 0.9242382,...</td>\n",
       "    </tr>\n",
       "    <tr>\n",
       "      <th>119</th>\n",
       "      <td>Yannam Yeshwant</td>\n",
       "      <td>student</td>\n",
       "      <td>[-0.054216646, -0.84846115, 0.9966417, 2.56558...</td>\n",
       "    </tr>\n",
       "  </tbody>\n",
       "</table>\n",
       "<p>120 rows × 3 columns</p>\n",
       "</div>"
      ],
      "text/plain": [
       "                Name     Role  \\\n",
       "0        Aadish Jain  student   \n",
       "1     Abhinav Gangil  student   \n",
       "2     Aditi Wekhande  student   \n",
       "3     Aditi Wekhande  student   \n",
       "4     Aditya Kshitiz  student   \n",
       "..               ...      ...   \n",
       "115    Vijit Balsori  student   \n",
       "116     Vineet Verma  student   \n",
       "117    Votte Sriyans  student   \n",
       "118    Votte Sriyans  student   \n",
       "119  Yannam Yeshwant  student   \n",
       "\n",
       "                                       Facial Features  \n",
       "0    [-1.89651, -0.22361787, 2.3829994, 1.4845628, ...  \n",
       "1    [-0.6267061, 0.99143255, 1.8860981, 2.5386827,...  \n",
       "2    [0.61851066, -2.313673, 1.0664217, -0.24302286...  \n",
       "3    [1.3814317, -2.3694372, -0.35375035, 0.2203314...  \n",
       "4    [0.5845894, 0.17067143, 0.4124964, 1.2453465, ...  \n",
       "..                                                 ...  \n",
       "115  [-0.765196, 0.15019533, 0.5577423, 1.7181464, ...  \n",
       "116  [-0.9653477, 0.16919827, -0.56249446, -0.38980...  \n",
       "117  [-2.150356, -1.7748274, 0.22421616, 0.1275861,...  \n",
       "118  [-3.171238, -2.7374885, 0.13183016, 0.9242382,...  \n",
       "119  [-0.054216646, -0.84846115, 0.9966417, 2.56558...  \n",
       "\n",
       "[120 rows x 3 columns]"
      ]
     },
     "execution_count": 33,
     "metadata": {},
     "output_type": "execute_result"
    }
   ],
   "source": [
    "dataframe=pd.DataFrame(person_info,columns=['Name','Role','Facial Features'])\n",
    "dataframe #store in redis database"
   ]
  },
  {
   "cell_type": "code",
   "execution_count": 34,
   "id": "60320419-40c7-4011-be62-fcc6472f7541",
   "metadata": {},
   "outputs": [],
   "source": [
    "img=cv2.imread('test_images/test1.jpg')\n",
    "cv2.imshow(\"test\",img)\n",
    "cv2.waitKey(0)\n",
    "cv2.destroyAllWindows()"
   ]
  },
  {
   "cell_type": "code",
   "execution_count": 35,
   "id": "a71d76d5-1b46-414e-8f13-c5679ff4a0fe",
   "metadata": {},
   "outputs": [],
   "source": [
    "res_test=faceapp.get(img,max_num=0)\n",
    "for rt in res_test:\n",
    "    bbox=rt['bbox'].astype(int)\n",
    "    score=int(rt['det_score']*100)\n",
    "    embed_test=rt['embedding']"
   ]
  },
  {
   "cell_type": "code",
   "execution_count": 36,
   "id": "00c745f8-e29c-4c46-b413-89a8ebc7e888",
   "metadata": {},
   "outputs": [
    {
     "data": {
      "text/plain": [
       "512"
      ]
     },
     "execution_count": 36,
     "metadata": {},
     "output_type": "execute_result"
    }
   ],
   "source": [
    "len(embed_test)"
   ]
  },
  {
   "cell_type": "code",
   "execution_count": 37,
   "id": "fea9c716-16e1-479e-b473-37dce133c97d",
   "metadata": {},
   "outputs": [],
   "source": [
    "x_list=dataframe['Facial Features'].tolist()\n",
    "x=np.asarray(x_list)"
   ]
  },
  {
   "cell_type": "code",
   "execution_count": 38,
   "id": "c5943d5e-6dc8-4bed-b4f5-7c37bf2242ba",
   "metadata": {},
   "outputs": [
    {
     "data": {
      "text/plain": [
       "(120, 512)"
      ]
     },
     "execution_count": 38,
     "metadata": {},
     "output_type": "execute_result"
    }
   ],
   "source": [
    "x.shape"
   ]
  },
  {
   "cell_type": "code",
   "execution_count": 39,
   "id": "959923a6-df37-4e61-9716-5529f71e81c5",
   "metadata": {},
   "outputs": [],
   "source": [
    "from sklearn.metrics import pairwise"
   ]
  },
  {
   "cell_type": "code",
   "execution_count": 40,
   "id": "432855af-394b-4609-abb8-a52d26bfc7a7",
   "metadata": {},
   "outputs": [],
   "source": [
    "y=embed_test.reshape(1,512) #1*512\n",
    "\n",
    "cosine_similar=pairwise.cosine_similarity(x,y)"
   ]
  },
  {
   "cell_type": "code",
   "execution_count": 41,
   "id": "0369e3d9-c4e2-461d-ad8b-75b1908e8941",
   "metadata": {},
   "outputs": [],
   "source": [
    "data_search=dataframe.copy()\n",
    "data_search['cosine']=cosine_similar"
   ]
  },
  {
   "cell_type": "code",
   "execution_count": 42,
   "id": "6d72f2b6-ff87-46cc-9c55-c82499a6f51e",
   "metadata": {},
   "outputs": [
    {
     "data": {
      "text/html": [
       "<div>\n",
       "<style scoped>\n",
       "    .dataframe tbody tr th:only-of-type {\n",
       "        vertical-align: middle;\n",
       "    }\n",
       "\n",
       "    .dataframe tbody tr th {\n",
       "        vertical-align: top;\n",
       "    }\n",
       "\n",
       "    .dataframe thead th {\n",
       "        text-align: right;\n",
       "    }\n",
       "</style>\n",
       "<table border=\"1\" class=\"dataframe\">\n",
       "  <thead>\n",
       "    <tr style=\"text-align: right;\">\n",
       "      <th></th>\n",
       "      <th>Name</th>\n",
       "      <th>Role</th>\n",
       "      <th>Facial Features</th>\n",
       "      <th>cosine</th>\n",
       "    </tr>\n",
       "  </thead>\n",
       "  <tbody>\n",
       "    <tr>\n",
       "      <th>0</th>\n",
       "      <td>Aadish Jain</td>\n",
       "      <td>student</td>\n",
       "      <td>[-1.89651, -0.22361787, 2.3829994, 1.4845628, ...</td>\n",
       "      <td>0.180937</td>\n",
       "    </tr>\n",
       "    <tr>\n",
       "      <th>1</th>\n",
       "      <td>Abhinav Gangil</td>\n",
       "      <td>student</td>\n",
       "      <td>[-0.6267061, 0.99143255, 1.8860981, 2.5386827,...</td>\n",
       "      <td>0.244054</td>\n",
       "    </tr>\n",
       "    <tr>\n",
       "      <th>2</th>\n",
       "      <td>Aditi Wekhande</td>\n",
       "      <td>student</td>\n",
       "      <td>[0.61851066, -2.313673, 1.0664217, -0.24302286...</td>\n",
       "      <td>0.069287</td>\n",
       "    </tr>\n",
       "    <tr>\n",
       "      <th>3</th>\n",
       "      <td>Aditi Wekhande</td>\n",
       "      <td>student</td>\n",
       "      <td>[1.3814317, -2.3694372, -0.35375035, 0.2203314...</td>\n",
       "      <td>0.021748</td>\n",
       "    </tr>\n",
       "    <tr>\n",
       "      <th>4</th>\n",
       "      <td>Aditya Kshitiz</td>\n",
       "      <td>student</td>\n",
       "      <td>[0.5845894, 0.17067143, 0.4124964, 1.2453465, ...</td>\n",
       "      <td>0.080312</td>\n",
       "    </tr>\n",
       "    <tr>\n",
       "      <th>...</th>\n",
       "      <td>...</td>\n",
       "      <td>...</td>\n",
       "      <td>...</td>\n",
       "      <td>...</td>\n",
       "    </tr>\n",
       "    <tr>\n",
       "      <th>115</th>\n",
       "      <td>Vijit Balsori</td>\n",
       "      <td>student</td>\n",
       "      <td>[-0.765196, 0.15019533, 0.5577423, 1.7181464, ...</td>\n",
       "      <td>0.206987</td>\n",
       "    </tr>\n",
       "    <tr>\n",
       "      <th>116</th>\n",
       "      <td>Vineet Verma</td>\n",
       "      <td>student</td>\n",
       "      <td>[-0.9653477, 0.16919827, -0.56249446, -0.38980...</td>\n",
       "      <td>0.050091</td>\n",
       "    </tr>\n",
       "    <tr>\n",
       "      <th>117</th>\n",
       "      <td>Votte Sriyans</td>\n",
       "      <td>student</td>\n",
       "      <td>[-2.150356, -1.7748274, 0.22421616, 0.1275861,...</td>\n",
       "      <td>0.089664</td>\n",
       "    </tr>\n",
       "    <tr>\n",
       "      <th>118</th>\n",
       "      <td>Votte Sriyans</td>\n",
       "      <td>student</td>\n",
       "      <td>[-3.171238, -2.7374885, 0.13183016, 0.9242382,...</td>\n",
       "      <td>0.000284</td>\n",
       "    </tr>\n",
       "    <tr>\n",
       "      <th>119</th>\n",
       "      <td>Yannam Yeshwant</td>\n",
       "      <td>student</td>\n",
       "      <td>[-0.054216646, -0.84846115, 0.9966417, 2.56558...</td>\n",
       "      <td>0.046621</td>\n",
       "    </tr>\n",
       "  </tbody>\n",
       "</table>\n",
       "<p>120 rows × 4 columns</p>\n",
       "</div>"
      ],
      "text/plain": [
       "                Name     Role  \\\n",
       "0        Aadish Jain  student   \n",
       "1     Abhinav Gangil  student   \n",
       "2     Aditi Wekhande  student   \n",
       "3     Aditi Wekhande  student   \n",
       "4     Aditya Kshitiz  student   \n",
       "..               ...      ...   \n",
       "115    Vijit Balsori  student   \n",
       "116     Vineet Verma  student   \n",
       "117    Votte Sriyans  student   \n",
       "118    Votte Sriyans  student   \n",
       "119  Yannam Yeshwant  student   \n",
       "\n",
       "                                       Facial Features    cosine  \n",
       "0    [-1.89651, -0.22361787, 2.3829994, 1.4845628, ...  0.180937  \n",
       "1    [-0.6267061, 0.99143255, 1.8860981, 2.5386827,...  0.244054  \n",
       "2    [0.61851066, -2.313673, 1.0664217, -0.24302286...  0.069287  \n",
       "3    [1.3814317, -2.3694372, -0.35375035, 0.2203314...  0.021748  \n",
       "4    [0.5845894, 0.17067143, 0.4124964, 1.2453465, ...  0.080312  \n",
       "..                                                 ...       ...  \n",
       "115  [-0.765196, 0.15019533, 0.5577423, 1.7181464, ...  0.206987  \n",
       "116  [-0.9653477, 0.16919827, -0.56249446, -0.38980...  0.050091  \n",
       "117  [-2.150356, -1.7748274, 0.22421616, 0.1275861,...  0.089664  \n",
       "118  [-3.171238, -2.7374885, 0.13183016, 0.9242382,...  0.000284  \n",
       "119  [-0.054216646, -0.84846115, 0.9966417, 2.56558...  0.046621  \n",
       "\n",
       "[120 rows x 4 columns]"
      ]
     },
     "execution_count": 42,
     "metadata": {},
     "output_type": "execute_result"
    }
   ],
   "source": [
    "data_search"
   ]
  },
  {
   "cell_type": "code",
   "execution_count": 43,
   "id": "02ab0b54-e714-40e7-8632-6bf95f56b31b",
   "metadata": {},
   "outputs": [],
   "source": [
    "s_opt=0.5"
   ]
  },
  {
   "cell_type": "code",
   "execution_count": 45,
   "id": "73ebda60-c791-45e5-9e64-7fe7092a2c69",
   "metadata": {},
   "outputs": [],
   "source": [
    "datafilter=data_search.query(f'cosine>{s_opt}')\n",
    "datafilter.reset_index(drop=True,inplace=True)\n",
    "\n",
    "if len(datafilter)>0:\n",
    "    argmax=datafilter['cosine'].argmax()\n",
    "    name_cos,role_cos=datafilter.loc[argmax][['Name','Role']]\n",
    "else:\n",
    "    name_cos='Unknown'\n",
    "    role_cos='Unknown'\n"
   ]
  },
  {
   "cell_type": "code",
   "execution_count": 46,
   "id": "1fecb28a-d229-4b14-9d38-7bdbffe9cb1b",
   "metadata": {},
   "outputs": [
    {
     "name": "stdout",
     "output_type": "stream",
     "text": [
      "Vedant Upadhyay student\n"
     ]
    }
   ],
   "source": [
    "print(name_cos,role_cos)"
   ]
  },
  {
   "cell_type": "code",
   "execution_count": 47,
   "id": "e5340c4d-3c18-4947-b0ff-b1a2b872c154",
   "metadata": {},
   "outputs": [
    {
     "data": {
      "text/html": [
       "<div>\n",
       "<style scoped>\n",
       "    .dataframe tbody tr th:only-of-type {\n",
       "        vertical-align: middle;\n",
       "    }\n",
       "\n",
       "    .dataframe tbody tr th {\n",
       "        vertical-align: top;\n",
       "    }\n",
       "\n",
       "    .dataframe thead th {\n",
       "        text-align: right;\n",
       "    }\n",
       "</style>\n",
       "<table border=\"1\" class=\"dataframe\">\n",
       "  <thead>\n",
       "    <tr style=\"text-align: right;\">\n",
       "      <th></th>\n",
       "      <th>Name</th>\n",
       "      <th>Role</th>\n",
       "      <th>Facial Features</th>\n",
       "      <th>cosine</th>\n",
       "    </tr>\n",
       "  </thead>\n",
       "  <tbody>\n",
       "    <tr>\n",
       "      <th>0</th>\n",
       "      <td>Vedant Upadhyay</td>\n",
       "      <td>student</td>\n",
       "      <td>[-0.8973803, 1.2294897, 0.6510981, 1.2588146, ...</td>\n",
       "      <td>0.680172</td>\n",
       "    </tr>\n",
       "    <tr>\n",
       "      <th>1</th>\n",
       "      <td>Vedant Upadhyay</td>\n",
       "      <td>student</td>\n",
       "      <td>[-0.8543678, 0.23283702, 1.2702205, 1.826755, ...</td>\n",
       "      <td>0.755717</td>\n",
       "    </tr>\n",
       "  </tbody>\n",
       "</table>\n",
       "</div>"
      ],
      "text/plain": [
       "              Name     Role  \\\n",
       "0  Vedant Upadhyay  student   \n",
       "1  Vedant Upadhyay  student   \n",
       "\n",
       "                                     Facial Features    cosine  \n",
       "0  [-0.8973803, 1.2294897, 0.6510981, 1.2588146, ...  0.680172  \n",
       "1  [-0.8543678, 0.23283702, 1.2702205, 1.826755, ...  0.755717  "
      ]
     },
     "execution_count": 47,
     "metadata": {},
     "output_type": "execute_result"
    }
   ],
   "source": [
    "datafilter"
   ]
  },
  {
   "cell_type": "code",
   "execution_count": 48,
   "id": "3c75607f",
   "metadata": {},
   "outputs": [],
   "source": [
    "def ml_search_algorithm(dataframe,feature_column,test_vector,name_role=['Name','Role'],thresh=0.5):\n",
    "    #step-1: take the dataframe(collection of data)\n",
    "    dataframe=dataframe.copy()\n",
    "    #step-2: Index face embeding from the dataframe\n",
    "    x_list=dataframe[feature_column].tolist()\n",
    "    x=np.asarray(x_list)\n",
    "    #step-3: Calculate cosine similarity\n",
    "    similar=pairwise.cosine_similarity(x,test_vector.reshape(1,-1))\n",
    "    similar_arr=np.array(similar).flatten()\n",
    "    dataframe['cosine']=similar_arr\n",
    "    #step-4: filter the data\n",
    "    data_filter=dataframe.query(f'cosine>={thresh}')\n",
    "    if len(data_filter)>0:\n",
    "        #step-5: get the person name\n",
    "        data_filter.reset_index(drop=True,inplace=True)\n",
    "        argmax=data_filter['cosine'].argmax()\n",
    "        person_name,person_role=data_filter.loc[argmax][name_role]\n",
    "    else:\n",
    "        person_name='Unknown'\n",
    "        person_role='Unknown'\n",
    "\n",
    "    return person_name,person_role\n",
    "    "
   ]
  },
  {
   "cell_type": "code",
   "execution_count": 58,
   "id": "09e649b1",
   "metadata": {},
   "outputs": [],
   "source": [
    "test_image=cv2.imread('test_images/test5.jpg')\n",
    "cv2.imshow('test image',test_image)\n",
    "cv2.waitKey(0)\n",
    "cv2.destroyAllWindows()"
   ]
  },
  {
   "cell_type": "code",
   "execution_count": 59,
   "id": "73663669",
   "metadata": {},
   "outputs": [],
   "source": [
    "#step-1: take the test image and apply to insight face\n",
    "results=faceapp.get(test_image)\n",
    "test_copy=test_image.copy()\n",
    "\n",
    "#step-2: use for loop and extract each embedding and pass to ml_search_algorithm\n",
    "\n",
    "for res in results:\n",
    "    x1,y1,x2,y2=res['bbox'].astype(int)\n",
    "    embeddings=res['embedding']\n",
    "    person_name,person_role=ml_search_algorithm(dataframe,'Facial Features',test_vector=embeddings,name_role=['Name','Role'],thresh=0.5)\n",
    "    cv2.rectangle(test_copy,(x1,y1),(x2,y2),(0,255,0))\n",
    "    text_gen=person_name\n",
    "    cv2.putText(test_copy,text_gen,(x1,y1),cv2.FONT_HERSHEY_DUPLEX,0.35,(0,255,0),1)\n",
    "\n",
    "cv2.imshow('test image',test_copy)\n",
    "cv2.waitKey()\n",
    "cv2.destroyAllWindows()\n"
   ]
  },
  {
   "cell_type": "code",
   "execution_count": null,
   "id": "f24dced6",
   "metadata": {},
   "outputs": [],
   "source": []
  },
  {
   "cell_type": "code",
   "execution_count": null,
   "id": "b997f37b",
   "metadata": {},
   "outputs": [],
   "source": []
  }
 ],
 "metadata": {
  "kernelspec": {
   "display_name": "Python 3 (ipykernel)",
   "language": "python",
   "name": "python3"
  },
  "language_info": {
   "codemirror_mode": {
    "name": "ipython",
    "version": 3
   },
   "file_extension": ".py",
   "mimetype": "text/x-python",
   "name": "python",
   "nbconvert_exporter": "python",
   "pygments_lexer": "ipython3",
   "version": "3.10.7"
  }
 },
 "nbformat": 4,
 "nbformat_minor": 5
}
